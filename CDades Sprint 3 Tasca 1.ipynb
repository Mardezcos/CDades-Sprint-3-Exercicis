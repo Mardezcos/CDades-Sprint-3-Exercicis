{
 "cells": [
  {
   "cell_type": "markdown",
   "id": "ad025af9",
   "metadata": {},
   "source": [
    "## CDades Sprint 3 Tasca 1"
   ]
  },
  {
   "cell_type": "markdown",
   "id": "42a5e2ed",
   "metadata": {},
   "source": [
    "**Exercici 1**\n",
    "Crea una funció que donat un Array d’una dimensió, et faci un resum estadístic bàsic de les dades. Si detecta que l’array té més d’una dimensió, ha de mostrar un missatge d’error."
   ]
  },
  {
   "cell_type": "code",
   "execution_count": 2,
   "id": "c5caaa1a",
   "metadata": {},
   "outputs": [],
   "source": [
    "import numpy as np\n",
    "from numpy import random\n",
    "from scipy import stats"
   ]
  },
  {
   "cell_type": "code",
   "execution_count": 5,
   "id": "a88235a5",
   "metadata": {},
   "outputs": [
    {
     "name": "stdout",
     "output_type": "stream",
     "text": [
      "Size of array:4\n",
      "Element:2\n",
      "Element:5\n",
      "Element:8\n",
      "Element:99\n",
      "El array es: \n",
      "[ 2.  5.  8. 99.]\n",
      "Dimensión del array:1\n",
      "Resumen estadístico del array: \n",
      "Número de elementos: 4\n",
      "Valor mínimo: 2.0\n",
      "Valor máximo: 99.0\n",
      "Media: 28.5\n",
      "Varianza: 2215.0\n",
      "Skewness: 1.1453265050018868\n",
      "Kurtosis: -0.6738730218582853\n"
     ]
    }
   ],
   "source": [
    "def dimension(array):\n",
    "    print(\"Dimensión del array:\" + str(array.ndim))\n",
    "    if array.ndim > 1:  # Cálculo de la dimensión\n",
    "        print('Este array no es válido')\n",
    "    else:\n",
    "        descriptiveStatistics = stats.describe(array)  # Resumen estadístico\n",
    "        print(\"Resumen estadístico del array: \")\n",
    "        print(\"Número de elementos: \" + str(descriptiveStatistics.nobs))\n",
    "        print(\"Valor mínimo: \" + str(descriptiveStatistics.minmax[0]))\n",
    "        print(\"Valor máximo: \" + str(descriptiveStatistics.minmax[1]))\n",
    "        print(\"Media: \" + str(descriptiveStatistics.mean))\n",
    "        print(\"Varianza: \" + str(descriptiveStatistics.variance)) \n",
    "        print(\"Skewness: \" + str(descriptiveStatistics.skewness))\n",
    "        print(\"Kurtosis: \" + str(descriptiveStatistics.kurtosis))\n",
    "        \n",
    "array = [] # Definimos en array\n",
    "a = int(input(\"Size of array:\")) # Entrada de longitud del array\n",
    "for i in range(a):\n",
    "    array.append(float(input(\"Element:\"))) # Entrada de valores del array y paso de string a float\n",
    "# print(type(array))  Aquí el array es tipo lista\n",
    "array = np.array(array) # Paso de lista a tipo numpy.ndarray\n",
    "# print(type(array)) Aquí el array es tipo numpy.ndarray\n",
    "print('El array es: ')\n",
    "print(np.floor(array))  # Floor redondea a entero\n",
    "# print(array.dtype)\n",
    "\n",
    "dimension(array)\n"
   ]
  },
  {
   "cell_type": "markdown",
   "id": "1601b603",
   "metadata": {},
   "source": [
    "**Exercici 2**\n",
    "Crea una funció que et generi un quadrat NxN de nombres aleatoris entre el 0 i el 100."
   ]
  },
  {
   "cell_type": "code",
   "execution_count": 32,
   "id": "d9041141",
   "metadata": {},
   "outputs": [
    {
     "name": "stdout",
     "output_type": "stream",
     "text": [
      "Introduce el número de filas de tu matriz: 3\n",
      "La matriz resultante es:\n",
      "[[85 40 35]\n",
      " [23 45 76]\n",
      " [89 97 75]]\n"
     ]
    }
   ],
   "source": [
    "def matrizNxN(N):\n",
    "    matriz = random.randint(100, size=(N,N))\n",
    "    print('La matriz resultante es:')\n",
    "    print(matriz)\n",
    "    \n",
    "dim = int(input('Introduce el número de filas de tu matriz: '))\n",
    "\n",
    "matrizNxN(dim)"
   ]
  },
  {
   "cell_type": "markdown",
   "id": "007b2d33",
   "metadata": {},
   "source": [
    "**Exercici 3**\n",
    "Crea una funció que donada una taula de dues dimensions (NxM), et calculi els totals per fila i els totals per columna."
   ]
  },
  {
   "cell_type": "code",
   "execution_count": 31,
   "id": "db080925",
   "metadata": {},
   "outputs": [
    {
     "name": "stdout",
     "output_type": "stream",
     "text": [
      "Introduce el número de filas de tu matriz: 3\n",
      "Introduce el número de filas de tu matriz: 4\n",
      "La matriz resultante es:\n",
      "[[32 25 54 11]\n",
      " [36 25 43 29]\n",
      " [94 74 54 34]]\n",
      "El total de la fila 0 es: 122\n",
      "El total de la fila 1 es: 133\n",
      "El total de la fila 2 es: 256\n",
      "El total de la columna 0 es: 162\n",
      "El total de la columna 1 es: 124\n",
      "El total de la columna 2 es: 151\n",
      "El total de la columna 3 es: 74\n"
     ]
    }
   ],
   "source": [
    "def matrizNxM(N,M):\n",
    "    matriz = random.randint(100, size=(N,M))\n",
    "    print('La matriz resultante es:')\n",
    "    print(matriz)\n",
    "    sumaFilas = np.sum(matriz, axis=1)\n",
    "    sumaColumnas = np.sum(matriz, axis=0)\n",
    "    for x in range(N):\n",
    "        print('El total de la fila ' + str(x) + ' es: ' + str(sumaFilas[x]))\n",
    "    for y in range(M):\n",
    "        print('El total de la columna ' + str(y) + ' es: ' + str(sumaColumnas[y]))       \n",
    "    \n",
    "N = int(input('Introduce el número de filas de tu matriz: '))\n",
    "M = int(input('Introduce el número de filas de tu matriz: '))\n",
    "\n",
    "matrizNxM(N,M)"
   ]
  },
  {
   "cell_type": "markdown",
   "id": "49777415",
   "metadata": {},
   "source": [
    "**Exercici 4**\n",
    "Implementa manualment una funció que calculi el coeficient de correlació. Informa-te'n sobre els seus usos i interpretació."
   ]
  },
  {
   "cell_type": "code",
   "execution_count": 33,
   "id": "cc327596",
   "metadata": {},
   "outputs": [
    {
     "name": "stdout",
     "output_type": "stream",
     "text": [
      "Introduce el número de filas de tu matriz: 3\n",
      "Introduce el número de filas de tu matriz: 4\n",
      "La matriz resultante es:\n",
      "[[62 69 60 38]\n",
      " [38 53 96 96]\n",
      " [15 96  2 99]]\n",
      "El coeficiente de correlación es:\n",
      "[[ 1.         -0.65185823 -0.33744898]\n",
      " [-0.65185823  1.          0.07686823]\n",
      " [-0.33744898  0.07686823  1.        ]]\n"
     ]
    }
   ],
   "source": [
    "def corrcoef(matriz):\n",
    "    coefCorr=np.corrcoef(matriz)\n",
    "    print(coefCorr)\n",
    "N = int(input('Introduce el número de filas de tu matriz: '))\n",
    "M = int(input('Introduce el número de filas de tu matriz: '))\n",
    "matriz = random.randint(100, size=(N,M))\n",
    "print('La matriz resultante es:')\n",
    "print( matriz)\n",
    "print('El coeficiente de correlación es:')\n",
    "corrcoef(matriz)"
   ]
  },
  {
   "cell_type": "code",
   "execution_count": null,
   "id": "d1a2e652",
   "metadata": {},
   "outputs": [],
   "source": []
  }
 ],
 "metadata": {
  "kernelspec": {
   "display_name": "Python 3 (ipykernel)",
   "language": "python",
   "name": "python3"
  },
  "language_info": {
   "codemirror_mode": {
    "name": "ipython",
    "version": 3
   },
   "file_extension": ".py",
   "mimetype": "text/x-python",
   "name": "python",
   "nbconvert_exporter": "python",
   "pygments_lexer": "ipython3",
   "version": "3.9.12"
  }
 },
 "nbformat": 4,
 "nbformat_minor": 5
}
